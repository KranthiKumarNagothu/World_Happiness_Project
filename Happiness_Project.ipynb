{
 "cells": [
  {
   "cell_type": "code",
   "execution_count": 40,
   "id": "4f2354ad",
   "metadata": {},
   "outputs": [],
   "source": [
    "from pyspark.sql import SparkSession"
   ]
  },
  {
   "cell_type": "code",
   "execution_count": 41,
   "id": "897dfb4f",
   "metadata": {},
   "outputs": [],
   "source": [
    "spark = SparkSession.builder.appName('Happiness_data').getOrCreate()"
   ]
  },
  {
   "cell_type": "code",
   "execution_count": 42,
   "id": "72a2bb06",
   "metadata": {},
   "outputs": [],
   "source": [
    "df1 = spark.read.csv(\"hdfs://localhost:9000/input2/happiness_data.csv\", header=True, inferSchema=True)"
   ]
  },
  {
   "cell_type": "code",
   "execution_count": 43,
   "id": "6de8b873",
   "metadata": {},
   "outputs": [
    {
     "name": "stdout",
     "output_type": "stream",
     "text": [
      "+-----------+--------------+-------------+--------------+-------------+-------------------+-------+--------------------+-------+-------------------------+----------+----------------+\n",
      "|    Country|        Region|HappinessRank|HappinessScore|StandardError|EconomyGDPperCapita| Family|HealthLifeExpectancy|Freedom|TrustGovernmentCorruption|Generosity|DystopiaResidual|\n",
      "+-----------+--------------+-------------+--------------+-------------+-------------------+-------+--------------------+-------+-------------------------+----------+----------------+\n",
      "|Switzerland|Western Europe|            1|         7.587|      0.03411|            1.39651|1.34951|             0.94143|0.66557|                  0.41978|   0.29678|         2.51738|\n",
      "|    Iceland|Western Europe|            2|         7.561|      0.04884|            1.30232|1.40223|             0.94784|0.62877|                  0.14145|    0.4363|         2.70201|\n",
      "|    Denmark|Western Europe|            3|         7.527|      0.03328|            1.32548|1.36058|             0.87464|0.64938|                  0.48357|   0.34139|         2.49204|\n",
      "|     Norway|Western Europe|            4|         7.522|       0.0388|              1.459|1.33095|             0.88521|0.66973|                  0.36503|   0.34699|         2.46531|\n",
      "|     Canada| North America|            5|         7.427|      0.03553|            1.32629|1.32261|             0.90563|0.63297|                  0.32957|   0.45811|         2.45176|\n",
      "+-----------+--------------+-------------+--------------+-------------+-------------------+-------+--------------------+-------+-------------------------+----------+----------------+\n",
      "only showing top 5 rows\n",
      "\n"
     ]
    }
   ],
   "source": [
    "df1.show(5) "
   ]
  },
  {
   "cell_type": "code",
   "execution_count": 44,
   "id": "226b149e",
   "metadata": {},
   "outputs": [],
   "source": [
    "df1.createOrReplaceTempView(\"Happiness_table\")"
   ]
  },
  {
   "cell_type": "code",
   "execution_count": 27,
   "id": "b64d80d6",
   "metadata": {},
   "outputs": [],
   "source": [
    "result = spark.sql(\"select * from Happiness_table\")\n",
    "result.write.csv('hdfs://localhost:9000/data/result.csv', mode='overwrite', header=True)"
   ]
  },
  {
   "cell_type": "code",
   "execution_count": 8,
   "id": "0e9da434",
   "metadata": {},
   "outputs": [
    {
     "data": {
      "text/plain": [
       "DataFrame[Country: string, Region: string, HappinessRank: int, HappinessScore: double, StandardError: double, EconomyGDPperCapita: double, Family: double, HealthLifeExpectancy: double, Freedom: double, TrustGovernmentCorruption: double, Generosity: double, DystopiaResidual: double]"
      ]
     },
     "execution_count": 8,
     "metadata": {},
     "output_type": "execute_result"
    }
   ],
   "source": [
    "result"
   ]
  },
  {
   "cell_type": "code",
   "execution_count": 30,
   "id": "6d008eb9",
   "metadata": {},
   "outputs": [],
   "source": [
    "#result.show()"
   ]
  },
  {
   "cell_type": "code",
   "execution_count": 10,
   "id": "45338120",
   "metadata": {},
   "outputs": [],
   "source": [
    "average_happiness_score = spark.sql(\"\"\"\n",
    "  SELECT AVG(HappinessScore) as AvgHappinessScore\n",
    "  FROM happiness_table\"\"\")\n",
    "average_happiness_score.write.csv('hdfs://localhost:9000/data/average_happiness_score.csv', mode='overwrite', header=True)"
   ]
  },
  {
   "cell_type": "code",
   "execution_count": 11,
   "id": "bcebabab",
   "metadata": {},
   "outputs": [
    {
     "name": "stdout",
     "output_type": "stream",
     "text": [
      "+------------------+\n",
      "| AvgHappinessScore|\n",
      "+------------------+\n",
      "|5.3757341772151905|\n",
      "+------------------+\n",
      "\n"
     ]
    }
   ],
   "source": [
    "average_happiness_score.show()"
   ]
  },
  {
   "cell_type": "code",
   "execution_count": 45,
   "id": "c4986f9b",
   "metadata": {},
   "outputs": [
    {
     "name": "stdout",
     "output_type": "stream",
     "text": [
      "+-------------------+------------------+------------------+-------------------+-------------------+----------------------+\n",
      "|Correlation_Economy|Correlation_Family|Correlation_Health|Correlation_Freedom|  Correlation_Trust|Correlation_Generosity|\n",
      "+-------------------+------------------+------------------+-------------------+-------------------+----------------------+\n",
      "| 0.7809655268660222|0.7406051972367849|0.7241995951050696| 0.5682109041925183|0.39519858383691153|     0.180318526697175|\n",
      "+-------------------+------------------+------------------+-------------------+-------------------+----------------------+\n",
      "\n"
     ]
    }
   ],
   "source": [
    "#Correlation between happiness score and contributing factors (e.g., economy, family, health, freedom, trust, generosity)\n",
    "\n",
    "\n",
    "Correlation_Metrics = spark.sql(\"\"\"\n",
    "  SELECT\n",
    "    corr(`HappinessScore`, `EconomyGDPperCapita`) AS Correlation_Economy,\n",
    "    corr(`HappinessScore`, `Family`) AS Correlation_Family,\n",
    "    corr(`HappinessScore`, `HealthLifeExpectancy`) AS Correlation_Health,\n",
    "    corr(`HappinessScore`, `Freedom`) AS Correlation_Freedom,\n",
    "    corr(`HappinessScore`, `TrustGovernmentCorruption`) AS Correlation_Trust,\n",
    "    corr(`HappinessScore`, `Generosity`) AS Correlation_Generosity\n",
    "  FROM happiness_table\n",
    "\"\"\")\n",
    "Correlation_Metrics.write.csv('hdfs://localhost:9000/data/Correlation_Metrics.csv', mode='overwrite', header=True)\n",
    "\n",
    "Correlation_Metrics.show()\n",
    "\n"
   ]
  },
  {
   "cell_type": "code",
   "execution_count": 12,
   "id": "7e582064",
   "metadata": {},
   "outputs": [],
   "source": [
    "happiness_per_country = spark.sql(\"\"\"\n",
    "  SELECT Country, HappinessScore\n",
    "  FROM happiness_table\"\"\")\n",
    "happiness_per_country.write.csv('hdfs://localhost:9000/data/happiness_per_country.csv', mode='overwrite', header=True)"
   ]
  },
  {
   "cell_type": "code",
   "execution_count": 13,
   "id": "5a39f65c",
   "metadata": {},
   "outputs": [
    {
     "name": "stdout",
     "output_type": "stream",
     "text": [
      "+--------------------+--------------+\n",
      "|             Country|HappinessScore|\n",
      "+--------------------+--------------+\n",
      "|         Switzerland|         7.587|\n",
      "|             Iceland|         7.561|\n",
      "|             Denmark|         7.527|\n",
      "|              Norway|         7.522|\n",
      "|              Canada|         7.427|\n",
      "|             Finland|         7.406|\n",
      "|         Netherlands|         7.378|\n",
      "|              Sweden|         7.364|\n",
      "|         New Zealand|         7.286|\n",
      "|           Australia|         7.284|\n",
      "|              Israel|         7.278|\n",
      "|          Costa Rica|         7.226|\n",
      "|             Austria|           7.2|\n",
      "|              Mexico|         7.187|\n",
      "|       United States|         7.119|\n",
      "|              Brazil|         6.983|\n",
      "|          Luxembourg|         6.946|\n",
      "|             Ireland|          6.94|\n",
      "|             Belgium|         6.937|\n",
      "|United Arab Emirates|         6.901|\n",
      "+--------------------+--------------+\n",
      "only showing top 20 rows\n",
      "\n"
     ]
    }
   ],
   "source": [
    "happiness_per_country.show()\n"
   ]
  },
  {
   "cell_type": "code",
   "execution_count": 16,
   "id": "0682fb9f",
   "metadata": {},
   "outputs": [
    {
     "name": "stdout",
     "output_type": "stream",
     "text": [
      "+--------------------+---------------------+\n",
      "|              Region|AverageHappinessScore|\n",
      "+--------------------+---------------------+\n",
      "|Australia and New...|                7.285|\n",
      "|       North America|                7.273|\n",
      "|      Western Europe|    6.689619047619048|\n",
      "|Latin America and...|   6.1446818181818195|\n",
      "|        Eastern Asia|    5.626166666666666|\n",
      "|Middle East and N...|    5.406899999999999|\n",
      "|Central and Easte...|    5.332931034482758|\n",
      "|   Southeastern Asia|    5.317444444444445|\n",
      "|       Southern Asia|    4.580857142857143|\n",
      "|  Sub-Saharan Africa|    4.202800000000001|\n",
      "+--------------------+---------------------+\n",
      "\n"
     ]
    }
   ],
   "source": [
    "average_happiness_by_region = spark.sql(\"\"\"\n",
    "  SELECT\n",
    "    Region,\n",
    "    AVG(HappinessScore) AS AverageHappinessScore\n",
    "  FROM happiness_table\n",
    "  GROUP BY Region\n",
    "  ORDER BY\n",
    "    AverageHappinessScore DESC\n",
    "\"\"\")\n",
    "average_happiness_by_region.write.csv('hdfs://localhost:9000/data/average_happiness_by_region.csv', mode='overwrite', header=True)\n",
    "average_happiness_by_region.show()\n"
   ]
  },
  {
   "cell_type": "code",
   "execution_count": 17,
   "id": "0868874a",
   "metadata": {},
   "outputs": [
    {
     "data": {
      "text/plain": [
       "DataFrame[Region: string, AverageHappinessScore: double]"
      ]
     },
     "execution_count": 17,
     "metadata": {},
     "output_type": "execute_result"
    }
   ],
   "source": [
    "average_happiness_by_region"
   ]
  },
  {
   "cell_type": "code",
   "execution_count": 18,
   "id": "68a3da2d",
   "metadata": {},
   "outputs": [
    {
     "name": "stdout",
     "output_type": "stream",
     "text": [
      "+------------------+------------------+------------------+-------------------+------------------+\n",
      "|        AvgEconomy|         AvgFamily|        AvgFreedom|      AvgGenerosity|         AvgHealth|\n",
      "+------------------+------------------+------------------+-------------------+------------------+\n",
      "|0.8461372151898726|0.9910459493670887|0.4286149367088611|0.23729550632911403|0.6302593670886079|\n",
      "+------------------+------------------+------------------+-------------------+------------------+\n",
      "\n"
     ]
    }
   ],
   "source": [
    "average_factors = spark.sql(\"\"\"\n",
    "  SELECT\n",
    "    AVG(EconomyGDPperCapita) AS AvgEconomy,\n",
    "    AVG(Family) AS AvgFamily,\n",
    "    AVG(Freedom) AS AvgFreedom,\n",
    "    AVG(Generosity) AS AvgGenerosity,\n",
    "    AVG(HealthLifeExpectancy) AS AvgHealth\n",
    "  FROM happiness_table\n",
    "\"\"\")\n",
    "average_factors.show()"
   ]
  },
  {
   "cell_type": "code",
   "execution_count": null,
   "id": "44b61c55",
   "metadata": {},
   "outputs": [],
   "source": []
  },
  {
   "cell_type": "code",
   "execution_count": 19,
   "id": "1895db08",
   "metadata": {},
   "outputs": [
    {
     "name": "stdout",
     "output_type": "stream",
     "text": [
      "+-----------------+\n",
      "|NumberOfCountries|\n",
      "+-----------------+\n",
      "|              158|\n",
      "+-----------------+\n",
      "\n"
     ]
    }
   ],
   "source": [
    "number_of_countries = spark.sql(\"SELECT COUNT(DISTINCT Country) AS NumberOfCountries FROM happiness_table\")\n",
    "number_of_countries.show()\n"
   ]
  },
  {
   "cell_type": "code",
   "execution_count": 20,
   "id": "f8d82b4a",
   "metadata": {},
   "outputs": [
    {
     "name": "stdout",
     "output_type": "stream",
     "text": [
      "+-----------+--------------+\n",
      "|    Country|HappinessScore|\n",
      "+-----------+--------------+\n",
      "|Switzerland|         7.587|\n",
      "|    Iceland|         7.561|\n",
      "|    Denmark|         7.527|\n",
      "|     Norway|         7.522|\n",
      "|     Canada|         7.427|\n",
      "|    Finland|         7.406|\n",
      "|Netherlands|         7.378|\n",
      "|     Sweden|         7.364|\n",
      "|New Zealand|         7.286|\n",
      "|  Australia|         7.284|\n",
      "+-----------+--------------+\n",
      "\n"
     ]
    }
   ],
   "source": [
    "top_10_happiest_countries = spark.sql(\"\"\"\n",
    "  SELECT Country, `HappinessScore` as `HappinessScore`\n",
    "  FROM happiness_table\n",
    "  ORDER BY `HappinessScore` DESC\n",
    "  LIMIT 10\n",
    "\"\"\")\n",
    "top_10_happiest_countries.show()\n",
    "top_10_happiest_countries.write.csv('hdfs://localhost:9000/data/top_10_happiest_countries.csv', mode='overwrite', header=True)\n",
    "\n"
   ]
  },
  {
   "cell_type": "code",
   "execution_count": 21,
   "id": "8addce3f",
   "metadata": {},
   "outputs": [
    {
     "data": {
      "text/plain": [
       "DataFrame[Country: string, HappinessScore: double]"
      ]
     },
     "execution_count": 21,
     "metadata": {},
     "output_type": "execute_result"
    }
   ],
   "source": [
    "top_10_happiest_countries"
   ]
  },
  {
   "cell_type": "code",
   "execution_count": 22,
   "id": "987db6c9",
   "metadata": {},
   "outputs": [
    {
     "name": "stdout",
     "output_type": "stream",
     "text": [
      "+------------+--------------+\n",
      "|     Country|HappinessScore|\n",
      "+------------+--------------+\n",
      "|        Togo|         2.839|\n",
      "|     Burundi|         2.905|\n",
      "|       Syria|         3.006|\n",
      "|       Benin|          3.34|\n",
      "|      Rwanda|         3.465|\n",
      "| Afghanistan|         3.575|\n",
      "|Burkina Faso|         3.587|\n",
      "| Ivory Coast|         3.655|\n",
      "|      Guinea|         3.656|\n",
      "|        Chad|         3.667|\n",
      "+------------+--------------+\n",
      "\n"
     ]
    }
   ],
   "source": [
    "bottom_10_happiness_countries = spark.sql(\"\"\"\n",
    "  SELECT Country, `HappinessScore`\n",
    "  FROM happiness_table\n",
    "  ORDER BY `HappinessScore`\n",
    "  LIMIT 10\n",
    "\"\"\")\n",
    "bottom_10_happiness_countries.show()\n",
    "bottom_10_happiness_countries.write.csv('hdfs://localhost:9000/data/bottom_10_happiness_countries.csv', mode='overwrite', header=True)\n"
   ]
  },
  {
   "cell_type": "code",
   "execution_count": 23,
   "id": "c817b4ad",
   "metadata": {},
   "outputs": [
    {
     "name": "stdout",
     "output_type": "stream",
     "text": [
      "+-------------------+------------------+------------------+-------------------+-------------------+----------------------+\n",
      "|Correlation_Economy|Correlation_Family|Correlation_Health|Correlation_Freedom|  Correlation_Trust|Correlation_Generosity|\n",
      "+-------------------+------------------+------------------+-------------------+-------------------+----------------------+\n",
      "| 0.7809655268660222|0.7406051972367849|0.7241995951050696| 0.5682109041925183|0.39519858383691153|     0.180318526697175|\n",
      "+-------------------+------------------+------------------+-------------------+-------------------+----------------------+\n",
      "\n"
     ]
    }
   ],
   "source": []
  },
  {
   "cell_type": "code",
   "execution_count": 24,
   "id": "624d70da",
   "metadata": {},
   "outputs": [
    {
     "data": {
      "text/plain": [
       "DataFrame[Correlation_Economy: double, Correlation_Family: double, Correlation_Health: double, Correlation_Freedom: double, Correlation_Trust: double, Correlation_Generosity: double]"
      ]
     },
     "execution_count": 24,
     "metadata": {},
     "output_type": "execute_result"
    }
   ],
   "source": [
    "Correlation_Metrics"
   ]
  },
  {
   "cell_type": "code",
   "execution_count": 25,
   "id": "c76ef1af",
   "metadata": {},
   "outputs": [
    {
     "name": "stdout",
     "output_type": "stream",
     "text": [
      "+-----------+---------------+\n",
      "|    Country|HappiestCountry|\n",
      "+-----------+---------------+\n",
      "|Switzerland|          7.587|\n",
      "+-----------+---------------+\n",
      "\n"
     ]
    }
   ],
   "source": [
    "highest_happiness_country = spark.sql(\"\"\"\n",
    "  SELECT Country, MAX(HappinessScore) AS HappiestCountry\n",
    "  FROM happiness_table\n",
    "  GROUP BY Country\n",
    "  ORDER BY HappiestCountry DESC\n",
    "  LIMIT 1\n",
    "\"\"\")\n",
    "highest_happiness_country.show()\n"
   ]
  },
  {
   "cell_type": "code",
   "execution_count": 26,
   "id": "194d9166",
   "metadata": {},
   "outputs": [
    {
     "name": "stdout",
     "output_type": "stream",
     "text": [
      "+-------+-----------------+\n",
      "|Country|LeastHappyCountry|\n",
      "+-------+-----------------+\n",
      "|   Togo|            2.839|\n",
      "+-------+-----------------+\n",
      "\n"
     ]
    }
   ],
   "source": [
    "lowest_happiness_country = spark.sql(\"\"\"\n",
    "  SELECT Country, MIN(HappinessScore) AS LeastHappyCountry\n",
    "  FROM happiness_table\n",
    "  GROUP BY Country\n",
    "  ORDER BY LeastHappyCountry ASC\n",
    "  LIMIT 1\n",
    "\"\"\")\n",
    "lowest_happiness_country.show()\n"
   ]
  },
  {
   "cell_type": "code",
   "execution_count": 62,
   "id": "a0cd9ebb",
   "metadata": {},
   "outputs": [],
   "source": []
  },
  {
   "cell_type": "code",
   "execution_count": null,
   "id": "d4134261",
   "metadata": {},
   "outputs": [],
   "source": []
  }
 ],
 "metadata": {
  "kernelspec": {
   "display_name": "Python 3 (ipykernel)",
   "language": "python",
   "name": "python3"
  },
  "language_info": {
   "codemirror_mode": {
    "name": "ipython",
    "version": 3
   },
   "file_extension": ".py",
   "mimetype": "text/x-python",
   "name": "python",
   "nbconvert_exporter": "python",
   "pygments_lexer": "ipython3",
   "version": "3.9.7"
  }
 },
 "nbformat": 4,
 "nbformat_minor": 5
}
